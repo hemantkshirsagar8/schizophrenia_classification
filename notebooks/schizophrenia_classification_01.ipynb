{
  "nbformat": 4,
  "nbformat_minor": 0,
  "metadata": {
    "colab": {
      "name": "schizophrenia_classification_01.ipynb",
      "provenance": []
    },
    "kernelspec": {
      "name": "python3",
      "display_name": "Python 3"
    },
    "accelerator": "GPU"
  },
  "cells": [
    {
      "cell_type": "markdown",
      "metadata": {
        "id": "qmX1xL3hlIpG",
        "colab_type": "text"
      },
      "source": [
        "### **Libraries:**\n",
        "\n",
        "\n",
        "---\n",
        "\n",
        "\n"
      ]
    },
    {
      "cell_type": "code",
      "metadata": {
        "id": "aEiLHD2jWUlC",
        "colab_type": "code",
        "colab": {}
      },
      "source": [
        "import pandas as pd"
      ],
      "execution_count": 0,
      "outputs": []
    },
    {
      "cell_type": "markdown",
      "metadata": {
        "id": "ukg2NDLthkHb",
        "colab_type": "text"
      },
      "source": [
        "### **Data setup**:\n",
        "\n",
        "\n",
        "---"
      ]
    },
    {
      "cell_type": "code",
      "metadata": {
        "id": "4h277zTkfH2W",
        "colab_type": "code",
        "colab": {}
      },
      "source": [
        "!mkdir data"
      ],
      "execution_count": 0,
      "outputs": []
    },
    {
      "cell_type": "code",
      "metadata": {
        "id": "lMugWlehftXf",
        "colab_type": "code",
        "colab": {}
      },
      "source": [
        "!pip install kaggle"
      ],
      "execution_count": 0,
      "outputs": []
    },
    {
      "cell_type": "code",
      "metadata": {
        "id": "WledsXrJfwmI",
        "colab_type": "code",
        "colab": {}
      },
      "source": [
        "!mkdir .kaggle"
      ],
      "execution_count": 0,
      "outputs": []
    },
    {
      "cell_type": "code",
      "metadata": {
        "id": "ysWBIv93gauK",
        "colab_type": "code",
        "colab": {}
      },
      "source": [
        "import json\n",
        "# token = {'username':'hemantkshirsagar8','key':''}\n",
        "with open('/content/.kaggle/kaggle.json', 'w') as file:\n",
        "    json.dump(token, file)"
      ],
      "execution_count": 0,
      "outputs": []
    },
    {
      "cell_type": "code",
      "metadata": {
        "id": "cwJTFXb1hD78",
        "colab_type": "code",
        "colab": {}
      },
      "source": [
        "!cp /content/.kaggle/kaggle.json ~/.kaggle/kaggle.json"
      ],
      "execution_count": 0,
      "outputs": []
    },
    {
      "cell_type": "code",
      "metadata": {
        "id": "Q4EZptqahVz4",
        "colab_type": "code",
        "colab": {}
      },
      "source": [
        "!kaggle config set -n path -v{/content}"
      ],
      "execution_count": 0,
      "outputs": []
    },
    {
      "cell_type": "code",
      "metadata": {
        "id": "pDpXfHvIhZ_O",
        "colab_type": "code",
        "colab": {}
      },
      "source": [
        "!chmod 600 /root/.kaggle/kaggle.json"
      ],
      "execution_count": 0,
      "outputs": []
    },
    {
      "cell_type": "code",
      "metadata": {
        "id": "kcZ94B3shems",
        "colab_type": "code",
        "colab": {}
      },
      "source": [
        "!kaggle competitions download -c mlsp-2014-mri -p /content/data"
      ],
      "execution_count": 0,
      "outputs": []
    },
    {
      "cell_type": "code",
      "metadata": {
        "id": "bsD--JwsiFRL",
        "colab_type": "code",
        "colab": {}
      },
      "source": [
        "!unzip /content/data/\\*.zip -d /content/data/"
      ],
      "execution_count": 0,
      "outputs": []
    },
    {
      "cell_type": "code",
      "metadata": {
        "id": "txrPoD9jiW62",
        "colab_type": "code",
        "colab": {}
      },
      "source": [
        "!rm -r /content/data/*.zip\n",
        "# !rm -r /content/data/*.m\n",
        "# !rm -r /content/data/*.R\n",
        "# !rm -r /content/data/*.nii"
      ],
      "execution_count": 0,
      "outputs": []
    },
    {
      "cell_type": "markdown",
      "metadata": {
        "id": "5gTMtVMUnm69",
        "colab_type": "text"
      },
      "source": [
        "## **About Data:**\n",
        "\n",
        "\n",
        "\n",
        "---\n"
      ]
    },
    {
      "cell_type": "markdown",
      "metadata": {
        "id": "yjkKljjglk_u",
        "colab_type": "text"
      },
      "source": [
        "\n",
        "**Train.zip:**\n",
        "\n",
        "**train_labels.csv** - Labels for the training set. The labels are indicated in the \"Class\" column. 0 = 'Healthy Control', 1 = 'Schizophrenic Patient'\n",
        "\n",
        "**train_FNC.csv** - FNC features for the training set. These are correlation values. They describe the connection level between pairs of brain maps over time.\n",
        "\n",
        "**train_SBM.csv** - SBM features for the training set. These are standardized weights. They describe the expression level of ICA brain maps derived from gray-matter concentration.\n",
        "\n",
        "**Test.zip:**\n",
        "\n",
        "**test_FNC.csv** - FNC features for the test set. Test subject labels have been removed. Your task is to predict these unknown labels from the provided features.\n",
        "\n",
        "**test_SBM.csv** - SBM features for the test set. Test subject labels have been removed.\n",
        "\n",
        "\n",
        "**About FNC Features:**\n",
        "\n",
        "Functional Network Connectivity (FNC) are correlation values that summarize the overall connection between independent brain maps over time. Therefore, the FNC feature gives a picture of the connectivity pattern over time between independent networks (or brain maps). The provided FNC information was obtained from functional magnetic resonance imaging (fMRI) from a set of schizophrenic patients and healthy controls at rest, using group independent component analysis (GICA). The GICA decomposition of the fMRI data resulted in a set of brain maps, and corresponding timecourses. \n",
        "\n",
        "These timecourses indicated the activity level of the corresponding brain map at each point in time. The FNC feature are the correlations between these timecourses. In a way, FNC indicates a subject's overall level of 'synchronicity' between brain areas. Because this information is derived from functional MRI scans, FNCs are considered a functional modality feature (i.e., they describe patterns of the brain function). More about FNCs can be found here: [FNC paper](http://cercor.oxfordjournals.org/content/early/2012/11/09/cercor.bhs352.abstract).\n",
        "\n",
        "**About SBM Loadings:**\n",
        "\n",
        "Source-Based Morphometry (SBM) loadings correspond to the weights of brain maps obtained from the application of independent component analysis (ICA) on the gray-matter concentration maps of all subjects. Gray-matter corresponds to the outer-sheet of the brain; it is the brain region in which much of the brain signal processing actually occurs. In a way, the concentration of gray-matter is indicative of the \"computational power\" available in a certain region of the brain. Processing gray-matter concentration maps with ICA yields independent brain maps whose expression levels (i.e., loadings) vary across subjects. \n",
        "\n",
        "Simply put, a near-zero loading for a given ICA-derived brain map indicates that the brain regions outlined in that map are lowly present in the subject (i.e., the gray-matter concentration in those regions are very low in that subject). Because this information is derived from structural MRI scans, SBM loadings are considered a structural modality feature (i.e., they describe patterns of the brain structure). More about SBM loadings can be found here: [SBM paper](http://www.ncbi.nlm.nih.gov/pubmed/22470337).\n",
        "\n",
        "Further details about data can be found here, at [kaggle competition](https://www.kaggle.com/c/mlsp-2014-mri/data).\n"
      ]
    },
    {
      "cell_type": "code",
      "metadata": {
        "id": "0Orvz1kpk7Us",
        "colab_type": "code",
        "colab": {}
      },
      "source": [
        ""
      ],
      "execution_count": 0,
      "outputs": []
    }
  ]
}